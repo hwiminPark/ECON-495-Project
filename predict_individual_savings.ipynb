{
 "cells": [
  {
   "cell_type": "markdown",
   "metadata": {},
   "source": [
    "# Predicting Individual Savings Potential: A Regression Model of Financial Behavior"
   ]
  },
  {
   "cell_type": "markdown",
   "metadata": {},
   "source": [
    "## Introduction"
   ]
  },
  {
   "cell_type": "markdown",
   "metadata": {},
   "source": [
    "### Project Overview\n",
    "This project aims to analyze age, education, and financial data to predict individual savings potential. Understanding how these demographic and financial factors influence savings behavior is crucial for tailoring personalized financial products, optimizing marketing strategies, and ultimately enhancing business profitability."
   ]
  },
  {
   "cell_type": "markdown",
   "metadata": {},
   "source": [
    "### Background\n",
    "The dataset used in this project consists of consumer financial data collected throughout 2022. It provides insights into several factors that may influence individual savings amounts, including age, education level, and financial literacy. By analyzing these variables, the project seeks to uncover patterns and relationships that drive personal savings behavior."
   ]
  },
  {
   "cell_type": "markdown",
   "metadata": {},
   "source": [
    "### Objectives\n",
    "- **Segment Individuals:** Identify and categorize individuals based on their financial behavior to uncover distinct patterns and trends.\n",
    "- **Analyze Key Factors:** Determine the most significant factors that impact personal savings.\n",
    "- **Predict Savings Potential:** Develop a predictive model to estimate individual savings potential using the identified factors and relevant economic indicators."
   ]
  },
  {
   "cell_type": "markdown",
   "metadata": {},
   "source": []
  }
 ],
 "metadata": {
  "language_info": {
   "name": "python"
  }
 },
 "nbformat": 4,
 "nbformat_minor": 2
}
