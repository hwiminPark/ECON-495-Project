{
 "cells": [
  {
   "cell_type": "markdown",
   "metadata": {},
   "source": [
    "# Predicting Individual Savings Potential: A Regression Model of Financial Behavior"
   ]
  },
  {
   "cell_type": "markdown",
   "metadata": {},
   "source": [
    "## Introduction"
   ]
  },
  {
   "cell_type": "markdown",
   "metadata": {},
   "source": [
    "### Project Overview\n",
    "This project aims to analyze age, education, and financial data to predict individual savings potential. Understanding how these demographic and financial factors influence savings behavior is crucial for tailoring personalized financial products, optimizing marketing strategies, and ultimately enhancing business profitability."
   ]
  },
  {
   "cell_type": "markdown",
   "metadata": {},
   "source": [
    "### Background\n",
    "The dataset used in this project consists of consumer financial data collected throughout 2022. It provides insights into several factors that may influence individual savings amounts, including age, education level, and financial literacy. By analyzing these variables, the project seeks to uncover patterns and relationships that drive personal savings behavior."
   ]
  },
  {
   "cell_type": "markdown",
   "metadata": {},
   "source": [
    "### Objectives\n",
    "- **Segment Individuals:** Identify and categorize individuals based on their financial behavior to uncover distinct patterns and trends.\n",
    "- **Analyze Key Factors:** Determine the most significant factors that impact personal savings.\n",
    "- **Predict Savings Potential:** Develop a predictive model to estimate individual savings potential using the identified factors and relevant economic indicators."
   ]
  },
  {
   "cell_type": "markdown",
   "metadata": {},
   "source": [
    "### Data Description\n",
    "\n",
    "#### Dataset Overview\n",
    "The dataset for this project is sourced from the **Federal Reserve's Survey of Consumer Finances**. It consists of **22,975 individuals** and **5,473 features**, offering a comprehensive view of personal finances and economic behavior.\n",
    "\n",
    "#### Key Features\n",
    "Below are some of the key features used in this analysis:\n",
    "\n",
    "- **Roth IRA balance (x6551):** The total balance in an individual’s Roth IRA account.\n",
    "- **Savings account balance (x3730):** The amount of money held in an individual’s savings account.\n",
    "- **Age of individual (x8022):** The age of the individual respondent.\n",
    "- **Total education loan borrowed (x7805):** The total amount of student loans taken by an individual.\n",
    "- **Education loan left (x7824):** The remaining balance on the student loan.\n",
    "- **Highest level of educational attainment (x5931):** The highest level of education an individual has completed.\n",
    "- **Current checking account balance (x3506):** The amount of money in an individual’s checking account.\n",
    "- **Total brokerage account balance of family (x3930):** The total balance in the family’s brokerage accounts.\n",
    "- **Amount received from Social Security (x5306):** The amount of Social Security benefits received.\n",
    "- **Family annual income (x5702):** The total annual income of the family.\n",
    "- **Typical year income (x7362):** The average annual income an individual typically earns.\n",
    "- **Amount to charitable donations (x5823):** The total amount donated to charitable causes.\n",
    "- **Years in college (x5933):** The number of years an individual has spent in higher education.\n",
    "\n",
    "#### Data Types\n",
    "- **Categorical:** `x5931` (Highest level of educational attainment)\n",
    "- **Numerical:** All other listed features"
   ]
  },
  {
   "cell_type": "markdown",
   "metadata": {},
   "source": [
    "### Prediction\n",
    "The goal of this project is to develop a model that predicts each individual’s **savings potential** based on the provided features, such as age, education, income, and various financial account balances. By leveraging these key factors, the model aims to estimate how much an individual is likely to save, helping to better understand financial behavior and inform future financial decisions."
   ]
  },
  {
   "cell_type": "markdown",
   "metadata": {},
   "source": []
  }
 ],
 "metadata": {
  "kernelspec": {
   "display_name": "Python 3",
   "language": "python",
   "name": "python3"
  },
  "language_info": {
   "codemirror_mode": {
    "name": "ipython",
    "version": 3
   },
   "file_extension": ".py",
   "mimetype": "text/x-python",
   "name": "python",
   "nbconvert_exporter": "python",
   "pygments_lexer": "ipython3",
   "version": "3.12.5"
  }
 },
 "nbformat": 4,
 "nbformat_minor": 2
}
